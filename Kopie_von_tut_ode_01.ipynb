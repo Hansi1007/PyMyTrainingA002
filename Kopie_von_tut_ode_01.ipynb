{
  "nbformat": 4,
  "nbformat_minor": 0,
  "metadata": {
    "colab": {
      "provenance": [],
      "toc_visible": true
    },
    "kernelspec": {
      "name": "python3",
      "display_name": "Python 3"
    },
    "language_info": {
      "name": "python"
    }
  },
  "cells": [
    {
      "cell_type": "code",
      "source": [
        "from sympy import *\n",
        "import matplotlib.pyplot as plt\n",
        "init_printing()"
      ],
      "metadata": {
        "id": "Byqeui6UUuhR"
      },
      "execution_count": 1,
      "outputs": []
    },
    {
      "cell_type": "code",
      "source": [
        "print(\"Running\")"
      ],
      "metadata": {
        "colab": {
          "base_uri": "https://localhost:8080/"
        },
        "id": "dpPPXlbE0Wig",
        "outputId": "0b941997-0577-416e-9811-0e9e49e85c7e"
      },
      "execution_count": 2,
      "outputs": [
        {
          "output_type": "stream",
          "name": "stdout",
          "text": [
            "Running\n"
          ]
        }
      ]
    },
    {
      "cell_type": "markdown",
      "source": [
        "### Gewöhnliche DGL (ODE) 1ter Ordnung\n",
        "$ \\quad  f^{\\prime} - x = 0 \\quad \\hbox{ mit Anfangswert: }\\ y(2) = 4 $<br>\n",
        "$ \\hbox{1.}\\ f^{\\prime} = \\frac{dy}{dx}  \\quad, \\, f^{\\prime} - x = 0 \\quad \\Leftrightarrow \\quad \\frac{dy}{dx} - x = 0$<br>\n",
        "$ \\hbox{2.}\\ \\hbox{Trennung der Variablen} \\quad {dy} = x {dx}$<br>\n",
        "$ \\quad \\hbox{Auf beiden seiten integrieren:} \\quad \t\\int{dy} = \\int x dx \\quad y = \\frac{x^2}{2}+ C 1​ $<br>\n",
        "$ \\quad \\hbox{Anfangswert}$\n"
      ],
      "metadata": {
        "id": "2tng1uEi85tG"
      }
    },
    {
      "cell_type": "code",
      "source": [
        "x = symbols('x',real=True)\n",
        "y = Function('y')(x)\n",
        "DGL = Eq(y.diff(x), x)\n",
        "DGL"
      ],
      "metadata": {
        "colab": {
          "base_uri": "https://localhost:8080/",
          "height": 52
        },
        "id": "WwDFzdboBBR4",
        "outputId": "ec14af68-0c80-4b42-eb64-d212f938d073"
      },
      "execution_count": 3,
      "outputs": [
        {
          "output_type": "execute_result",
          "data": {
            "text/plain": [
              "d           \n",
              "──(y(x)) = x\n",
              "dx          "
            ],
            "text/latex": "$\\displaystyle \\frac{d}{d x} y{\\left(x \\right)} = x$"
          },
          "metadata": {},
          "execution_count": 3
        }
      ]
    },
    {
      "cell_type": "code",
      "source": [
        "dsolve(DGL)"
      ],
      "metadata": {
        "colab": {
          "base_uri": "https://localhost:8080/",
          "height": 54
        },
        "id": "mNqktsm5BT6Q",
        "outputId": "70f9fc74-e4be-438b-9fb2-c451984b21f6"
      },
      "execution_count": 4,
      "outputs": [
        {
          "output_type": "execute_result",
          "data": {
            "text/plain": [
              "             2\n",
              "            x \n",
              "y(x) = C₁ + ──\n",
              "            2 "
            ],
            "text/latex": "$\\displaystyle y{\\left(x \\right)} = C_{1} + \\frac{x^{2}}{2}$"
          },
          "metadata": {},
          "execution_count": 4
        }
      ]
    },
    {
      "cell_type": "markdown",
      "source": [
        "Die Konstante  C1\n",
        "  ist durch die oben angegebene Anfangsbedingung $( y(2)=α \\quad, α = 4$\n",
        " ) bestimmt. Einarbeiten dieser Anfangsbedingung:"
      ],
      "metadata": {
        "id": "qznWOR9Wz36a"
      }
    },
    {
      "cell_type": "code",
      "source": [
        "alpha= symbols('alpha')\n",
        "y_0 = alpha\n",
        "dsolve(DGL,ics={y.subs(x,0):y_0})"
      ],
      "metadata": {
        "colab": {
          "base_uri": "https://localhost:8080/",
          "height": 54
        },
        "id": "hd9omLwJBk2Y",
        "outputId": "10d9f5c9-ead7-4137-d176-de29a5874e00"
      },
      "execution_count": 5,
      "outputs": [
        {
          "output_type": "execute_result",
          "data": {
            "text/plain": [
              "            2\n",
              "           x \n",
              "y(x) = α + ──\n",
              "           2 "
            ],
            "text/latex": "$\\displaystyle y{\\left(x \\right)} = \\alpha + \\frac{x^{2}}{2}$"
          },
          "metadata": {},
          "execution_count": 5
        }
      ]
    },
    {
      "cell_type": "markdown",
      "source": [
        "Es wird somit eine allgemeine analytische Lösung gefunden, sodass wir die spezielle Anfangsbedingung ( y(2)= 4\n",
        " ,  α=4.0 ) einarbeiten können um den noch unbestimmten Parameter  C1\n",
        "  bzw.  α\n",
        "  festzulegen."
      ],
      "metadata": {
        "id": "B33ofP_fpFw4"
      }
    },
    {
      "cell_type": "code",
      "source": [
        "y_0 = 4\n",
        "Loes_DGL = dsolve(DGL,ics={y.subs(x,2):y_0})\n",
        "Loes_DGL"
      ],
      "metadata": {
        "colab": {
          "base_uri": "https://localhost:8080/",
          "height": 54
        },
        "id": "YmbIhHqW0V_M",
        "outputId": "0d79e4e5-f62c-4578-ed32-c12033e6132d"
      },
      "execution_count": 6,
      "outputs": [
        {
          "output_type": "execute_result",
          "data": {
            "text/plain": [
              "        2    \n",
              "       x     \n",
              "y(x) = ── + 2\n",
              "       2     "
            ],
            "text/latex": "$\\displaystyle y{\\left(x \\right)} = \\frac{x^{2}}{2} + 2$"
          },
          "metadata": {},
          "execution_count": 6
        }
      ]
    },
    {
      "cell_type": "markdown",
      "source": [
        "Wir stellen uns die berechnete analytische Lösung der DGL dar:"
      ],
      "metadata": {
        "id": "JpJE4RGxqJRi"
      }
    },
    {
      "cell_type": "code",
      "source": [
        "p = plot(Loes_DGL.rhs,xlim=(0,4),ylim=(0,10),ylabel=\"y(t)\", show=False);\n",
        "\n",
        "# Add vertical line at x = 2\n",
        "p[0].line_color = 'blue' # Set color for the solution curve\n",
        "# p.append(plot(0, (x,2,2), line_color='red', linestyle='--', show=False)[0])\n",
        "\n",
        "# Add horizontal line at y = 4\n",
        "p.append(plot(4, (x,0,2), line_color='green', linestyle='--', show=False)[0])\n",
        "\n",
        "p.show()\n",
        "\n"
      ],
      "metadata": {
        "colab": {
          "base_uri": "https://localhost:8080/",
          "height": 487
        },
        "id": "bDD-LB_V0u3x",
        "outputId": "4b97d636-d128-47a2-d587-840bae7f2edb"
      },
      "execution_count": 7,
      "outputs": [
        {
          "output_type": "display_data",
          "data": {
            "text/plain": [
              "<Figure size 640x480 with 1 Axes>"
            ],
            "image/png": "[encoded data removed]"
          },
          "metadata": {}
        }
      ]
    },
    {
      "cell_type": "code",
      "source": [
        "Loes_DGL.rhs"
      ],
      "metadata": {
        "colab": {
          "base_uri": "https://localhost:8080/",
          "height": 54
        },
        "id": "LnsDiPHwslzS",
        "outputId": "299e7f3d-673b-4254-c006-f503aaac263e"
      },
      "execution_count": 8,
      "outputs": [
        {
          "output_type": "execute_result",
          "data": {
            "text/plain": [
              " 2    \n",
              "x     \n",
              "── + 2\n",
              "2     "
            ],
            "text/latex": "$\\displaystyle \\frac{x^{2}}{2} + 2$"
          },
          "metadata": {},
          "execution_count": 8
        }
      ]
    },
    {
      "cell_type": "markdown",
      "source": [
        "### [Gewöhnliche Differentialgleichungen: Anfangswertaufgaben](https://www.youtube.com/watch?v=z5AKyKbQkS0&list=PLPELvLjbS6Y-ef2iDgJZ8tOO6Km8r2SkL&index=2)<br>\n",
        "$ \\quad  f^{\\prime} + x^2 = x + 1 \\quad \\hbox{ mit Anfangswert: }\\ y(6) = 0 $<br>\n",
        "\n",
        "\n",
        "1.   Schritt: Allgemeine Lösung mit Trennung der Variablen<br>\n",
        "$ \\frac{dy}{dx} + x^2 = x+1 \t\\Leftrightarrow  {dy}  =(-x^2+x+1){dx} |\\int $<br>\n",
        "$ ∫{dy}  = \\int (-x^2+x+1){dx}$<br>\n",
        "$ y = -\\frac{x^3}{3}+\\frac{x^2}{2}+x+C $\n",
        "2.  Anfangswert einsetzen<br>\n",
        "$ y(6)= 0 \\quad,0 = \\frac{6^3}{3} + \\frac{6^2}{2} + 6 + C \\quad, \\hbox{Integantsionskonstante ist } C = 48$<br>\n",
        "3.  Spezielle Lösung<br>\n",
        "$ y(x) = -\\frac{x^3}{3}+\\frac{x^2}{2}+x+48$\n",
        "\n",
        "\n",
        "\n"
      ],
      "metadata": {
        "id": "HhOwDSxC8aTn"
      }
    },
    {
      "cell_type": "code",
      "source": [
        "x= symbols('x',real=True)\n",
        "y = Function('y')(x)\n",
        "DGL = Eq(y.diff(x), -x**2 + x +1)\n",
        "DGL"
      ],
      "metadata": {
        "colab": {
          "base_uri": "https://localhost:8080/",
          "height": 52
        },
        "id": "PKucKcio7FmH",
        "outputId": "38a93d8e-6b97-43cb-9b50-d5837b0f1568"
      },
      "execution_count": 19,
      "outputs": [
        {
          "output_type": "execute_result",
          "data": {
            "text/plain": [
              "d             2        \n",
              "──(y(x)) = - x  + x + 1\n",
              "dx                     "
            ],
            "text/latex": "$\\displaystyle \\frac{d}{d x} y{\\left(x \\right)} = - x^{2} + x + 1$"
          },
          "metadata": {},
          "execution_count": 19
        }
      ]
    },
    {
      "cell_type": "code",
      "source": [
        "general_solution = dsolve(DGL)\n",
        "general_solution"
      ],
      "metadata": {
        "colab": {
          "base_uri": "https://localhost:8080/",
          "height": 54
        },
        "id": "1bgqIPtcvQtr",
        "outputId": "9d12aca0-fabe-4ef6-da03-5761e9ca8f3f"
      },
      "execution_count": 23,
      "outputs": [
        {
          "output_type": "execute_result",
          "data": {
            "text/plain": [
              "             3    2    \n",
              "            x    x     \n",
              "y(x) = C₁ - ── + ── + x\n",
              "            3    2     "
            ],
            "text/latex": "$\\displaystyle y{\\left(x \\right)} = C_{1} - \\frac{x^{3}}{3} + \\frac{x^{2}}{2} + x$"
          },
          "metadata": {},
          "execution_count": 23
        }
      ]
    },
    {
      "cell_type": "code",
      "source": [
        "# Apply the initial condition y(6) = 0\n",
        "initial_condition = {y.subs(x, 6): 0}\n",
        "particular_solution = dsolve(DGL, ics=initial_condition)\n",
        "particular_solution"
      ],
      "metadata": {
        "colab": {
          "base_uri": "https://localhost:8080/",
          "height": 54
        },
        "id": "hDCL25X8wFKN",
        "outputId": "1e36b703-0439-4fbe-9b73-ecd17c3ebc48"
      },
      "execution_count": 24,
      "outputs": [
        {
          "output_type": "execute_result",
          "data": {
            "text/plain": [
              "          3    2         \n",
              "         x    x          \n",
              "y(x) = - ── + ── + x + 48\n",
              "         3    2          "
            ],
            "text/latex": "$\\displaystyle y{\\left(x \\right)} = - \\frac{x^{3}}{3} + \\frac{x^{2}}{2} + x + 48$"
          },
          "metadata": {},
          "execution_count": 24
        }
      ]
    },
    {
      "cell_type": "code",
      "source": [
        "# prompt: Löse die DGL mit y(6) = 0\n",
        "\n",
        "from sympy import *\n",
        "import matplotlib.pyplot as plt\n",
        "init_printing()\n",
        "\n",
        "x = symbols('x', real=True)\n",
        "y = Function('y')(x)\n",
        "DGL = Eq(y.diff(x), -x**2 + x + 1)\n",
        "\n",
        "# Solve the differential equation\n",
        "general_solution = dsolve(DGL)\n",
        "\n",
        "# Apply the initial condition y(6) = 0\n",
        "initial_condition = {y.subs(x, 6): 0}\n",
        "particular_solution = dsolve(DGL, ics=initial_condition)\n",
        "\n",
        "# Display the particular solution\n",
        "print(particular_solution)\n",
        "\n",
        "# Plot the solution (optional)\n",
        "p = plot(particular_solution.rhs, (x, 0, 10), ylabel=\"y(x)\", show=False)\n",
        "p[0].line_color = 'blue'\n",
        "p.show()\n"
      ],
      "metadata": {
        "colab": {
          "base_uri": "https://localhost:8080/",
          "height": 504
        },
        "id": "er1_WL9_veqL",
        "outputId": "f0e57175-6ee5-4121-d6c7-6fceaf1a3f23"
      },
      "execution_count": 21,
      "outputs": [
        {
          "output_type": "stream",
          "name": "stdout",
          "text": [
            "Eq(y(x), -x**3/3 + x**2/2 + x + 48)\n"
          ]
        },
        {
          "output_type": "display_data",
          "data": {
            "text/plain": [
              "<Figure size 640x480 with 1 Axes>"
            ],
            "image/png": "[encoded data removed]"
          },
          "metadata": {}
        }
      ]
    }
  ]
}
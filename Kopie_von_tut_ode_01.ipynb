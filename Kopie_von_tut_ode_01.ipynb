{
  "nbformat": 4,
  "nbformat_minor": 0,
  "metadata": {
    "colab": {
      "provenance": [],
      "toc_visible": true
    },
    "kernelspec": {
      "name": "python3",
      "display_name": "Python 3"
    },
    "language_info": {
      "name": "python"
    }
  },
  "cells": [
    {
      "cell_type": "code",
      "source": [
        "import numpy as np\n",
        "import math as math\n",
        "from sympy import *\n",
        "import matplotlib.pyplot as plt\n",
        "init_printing()"
      ],
      "metadata": {
        "id": "Byqeui6UUuhR"
      },
      "execution_count": 45,
      "outputs": []
    },
    {
      "cell_type": "markdown",
      "source": [
        "[patrickwalls](https://patrickwalls.github.io/mathematicalpython/differentiation/differentiation/)\n",
        "\n",
        "[itp.uni-frankfurt.de](https://itp.uni-frankfurt.de/~hanauske/VPROG/Python/Jupyter/DGL_1.html)"
      ],
      "metadata": {
        "id": "rnMoByXifh9R"
      }
    },
    {
      "cell_type": "code",
      "source": [
        "print(\"Running\")"
      ],
      "metadata": {
        "colab": {
          "base_uri": "https://localhost:8080/"
        },
        "id": "dpPPXlbE0Wig",
        "outputId": "c58d9951-3bf7-4e1f-b842-ad1b387e2cf8"
      },
      "execution_count": 4,
      "outputs": [
        {
          "output_type": "stream",
          "name": "stdout",
          "text": [
            "Running\n"
          ]
        }
      ]
    },
    {
      "cell_type": "markdown",
      "source": [
        "### 1 Gewöhnliche DGL (ODE) 1ter Ordnung\n",
        "$ \\quad  f^{\\prime} - x = 0 \\quad \\hbox{ mit Anfangswert: }\\ y(2) = 4 $<br>\n",
        "$ \\hbox{1.}\\ f^{\\prime} = \\frac{dy}{dx}  \\quad, \\, f^{\\prime} - x = 0 \\quad \\Leftrightarrow \\quad \\frac{dy}{dx} - x = 0$<br>\n",
        "$ \\hbox{2.}\\ \\hbox{Trennung der Variablen} \\quad {dy} = x {dx}$<br>\n",
        "$ \\quad \\hbox{Auf beiden seiten integrieren:} \\quad \t\\int{dy} = \\int x dx \\quad y = \\frac{x^2}{2}+ C 1​ $<br>\n",
        "$ \\quad \\hbox{Anfangswert}$\n"
      ],
      "metadata": {
        "id": "2tng1uEi85tG"
      }
    },
    {
      "cell_type": "code",
      "source": [
        "x = symbols('x',real=True)\n",
        "y = Function('y')(x)\n",
        "DGL = Eq(y.diff(x), x)\n",
        "DGL"
      ],
      "metadata": {
        "colab": {
          "base_uri": "https://localhost:8080/",
          "height": 52
        },
        "id": "WwDFzdboBBR4",
        "outputId": "86fd067f-7a7f-4cc4-cca2-4daa36d1ff14"
      },
      "execution_count": 5,
      "outputs": [
        {
          "output_type": "execute_result",
          "data": {
            "text/plain": [
              "d           \n",
              "──(y(x)) = x\n",
              "dx          "
            ],
            "text/latex": "$\\displaystyle \\frac{d}{d x} y{\\left(x \\right)} = x$"
          },
          "metadata": {},
          "execution_count": 5
        }
      ]
    },
    {
      "cell_type": "code",
      "source": [
        "dsolve(DGL)"
      ],
      "metadata": {
        "colab": {
          "base_uri": "https://localhost:8080/",
          "height": 54
        },
        "id": "mNqktsm5BT6Q",
        "outputId": "a257c530-573f-4564-b4e7-00eacfabdd26"
      },
      "execution_count": 6,
      "outputs": [
        {
          "output_type": "execute_result",
          "data": {
            "text/plain": [
              "             2\n",
              "            x \n",
              "y(x) = C₁ + ──\n",
              "            2 "
            ],
            "text/latex": "$\\displaystyle y{\\left(x \\right)} = C_{1} + \\frac{x^{2}}{2}$"
          },
          "metadata": {},
          "execution_count": 6
        }
      ]
    },
    {
      "cell_type": "markdown",
      "source": [
        "Die Konstante  C1\n",
        "  ist durch die oben angegebene Anfangsbedingung $( y(2)=α \\quad, α = 4$\n",
        " ) bestimmt. Einarbeiten dieser Anfangsbedingung:"
      ],
      "metadata": {
        "id": "qznWOR9Wz36a"
      }
    },
    {
      "cell_type": "code",
      "source": [
        "alpha= symbols('alpha')\n",
        "y_0 = alpha\n",
        "dsolve(DGL,ics={y.subs(x,0):y_0})"
      ],
      "metadata": {
        "colab": {
          "base_uri": "https://localhost:8080/",
          "height": 54
        },
        "id": "hd9omLwJBk2Y",
        "outputId": "1e922553-6005-4a79-ae34-e2b4467bcb09"
      },
      "execution_count": 7,
      "outputs": [
        {
          "output_type": "execute_result",
          "data": {
            "text/plain": [
              "            2\n",
              "           x \n",
              "y(x) = α + ──\n",
              "           2 "
            ],
            "text/latex": "$\\displaystyle y{\\left(x \\right)} = \\alpha + \\frac{x^{2}}{2}$"
          },
          "metadata": {},
          "execution_count": 7
        }
      ]
    },
    {
      "cell_type": "markdown",
      "source": [
        "Es wird somit eine allgemeine analytische Lösung gefunden, sodass wir die spezielle Anfangsbedingung ( y(2)= 4\n",
        " ,  α=4.0 ) einarbeiten können um den noch unbestimmten Parameter  C1\n",
        "  bzw.  α\n",
        "  festzulegen."
      ],
      "metadata": {
        "id": "B33ofP_fpFw4"
      }
    },
    {
      "cell_type": "code",
      "source": [
        "y_0 = 4\n",
        "Loes_DGL = dsolve(DGL,ics={y.subs(x,2):y_0})\n",
        "Loes_DGL"
      ],
      "metadata": {
        "colab": {
          "base_uri": "https://localhost:8080/",
          "height": 54
        },
        "id": "YmbIhHqW0V_M",
        "outputId": "12b14967-17f5-406a-ea74-d4ca88a25d03"
      },
      "execution_count": 8,
      "outputs": [
        {
          "output_type": "execute_result",
          "data": {
            "text/plain": [
              "        2    \n",
              "       x     \n",
              "y(x) = ── + 2\n",
              "       2     "
            ],
            "text/latex": "$\\displaystyle y{\\left(x \\right)} = \\frac{x^{2}}{2} + 2$"
          },
          "metadata": {},
          "execution_count": 8
        }
      ]
    },
    {
      "cell_type": "markdown",
      "source": [
        "Wir stellen uns die berechnete analytische Lösung der DGL dar:"
      ],
      "metadata": {
        "id": "JpJE4RGxqJRi"
      }
    },
    {
      "cell_type": "code",
      "source": [
        "p = plot(Loes_DGL.rhs,xlim=(0,4),ylim=(0,10),ylabel=\"y(t)\", show=False);\n",
        "\n",
        "# Add vertical line at x = 2\n",
        "p[0].line_color = 'blue' # Set color for the solution curve\n",
        "# p.append(plot(0, (x,2,2), line_color='red', linestyle='--', show=False)[0])\n",
        "\n",
        "# Add horizontal line at y = 4\n",
        "p.append(plot(4, (x,0,2), line_color='green', linestyle='--', show=False)[0])\n",
        "\n",
        "p.show()\n",
        "\n"
      ],
      "metadata": {
        "colab": {
          "base_uri": "https://localhost:8080/",
          "height": 487
        },
        "id": "bDD-LB_V0u3x",
        "outputId": "2ae6d507-6f41-4367-c283-fc7e56b8293d"
      },
      "execution_count": 9,
      "outputs": [
        {
          "output_type": "display_data",
          "data": {
            "text/plain": [
              "<Figure size 640x480 with 1 Axes>"
            ],
            "image/png": "[encoded data removed]"
          },
          "metadata": {}
        }
      ]
    },
    {
      "cell_type": "code",
      "source": [
        "Loes_DGL.rhs"
      ],
      "metadata": {
        "colab": {
          "base_uri": "https://localhost:8080/",
          "height": 54
        },
        "id": "LnsDiPHwslzS",
        "outputId": "ff6d12a8-1ed5-40ec-c8a4-a00ef9f1b208"
      },
      "execution_count": 10,
      "outputs": [
        {
          "output_type": "execute_result",
          "data": {
            "text/plain": [
              " 2    \n",
              "x     \n",
              "── + 2\n",
              "2     "
            ],
            "text/latex": "$\\displaystyle \\frac{x^{2}}{2} + 2$"
          },
          "metadata": {},
          "execution_count": 10
        }
      ]
    },
    {
      "cell_type": "markdown",
      "source": [
        "### 2 [Gewöhnliche Differentialgleichungen: Anfangswertaufgaben](https://www.youtube.com/watch?v=z5AKyKbQkS0&list=PLPELvLjbS6Y-ef2iDgJZ8tOO6Km8r2SkL&index=2)<br>\n",
        "$ \\quad  f^{\\prime} + x^2 = x + 1 \\quad \\hbox{ mit Anfangswert: }\\ y(6) = 0 $<br>\n",
        "\n",
        "\n",
        "1.   Schritt: Allgemeine Lösung mit Trennung der Variablen<br>\n",
        "$ \\frac{dy}{dx} + x^2 = x+1 \t\\Leftrightarrow  {dy}  =(-x^2+x+1){dx} |\\int $<br>\n",
        "$ ∫{dy}  = \\int (-x^2+x+1){dx}$<br>\n",
        "$ y = -\\frac{x^3}{3}+\\frac{x^2}{2}+x+C $\n",
        "2.  Anfangswert einsetzen<br>\n",
        "$ y(6)= 0 \\quad,0 = \\frac{6^3}{3} + \\frac{6^2}{2} + 6 + C \\quad, \\hbox{Integantsionskonstante ist } C = 48$<br>\n",
        "3.  Spezielle Lösung<br>\n",
        "$ y(x) = -\\frac{x^3}{3}+\\frac{x^2}{2}+x+48$\n",
        "\n",
        "\n",
        "\n"
      ],
      "metadata": {
        "id": "HhOwDSxC8aTn"
      }
    },
    {
      "cell_type": "code",
      "source": [
        "x= symbols('x',real=True)\n",
        "y = Function('y')(x)\n",
        "DGL = Eq(y.diff(x), -x**2 + x +1)\n",
        "DGL"
      ],
      "metadata": {
        "colab": {
          "base_uri": "https://localhost:8080/",
          "height": 52
        },
        "id": "PKucKcio7FmH",
        "outputId": "7e1fb53d-be61-4960-9c1d-14ca27698b5b"
      },
      "execution_count": 11,
      "outputs": [
        {
          "output_type": "execute_result",
          "data": {
            "text/plain": [
              "d             2        \n",
              "──(y(x)) = - x  + x + 1\n",
              "dx                     "
            ],
            "text/latex": "$\\displaystyle \\frac{d}{d x} y{\\left(x \\right)} = - x^{2} + x + 1$"
          },
          "metadata": {},
          "execution_count": 11
        }
      ]
    },
    {
      "cell_type": "code",
      "source": [
        "general_solution = dsolve(DGL)\n",
        "general_solution"
      ],
      "metadata": {
        "colab": {
          "base_uri": "https://localhost:8080/",
          "height": 54
        },
        "id": "1bgqIPtcvQtr",
        "outputId": "48f3c968-cde5-40d3-f9bc-ae49f4195280"
      },
      "execution_count": 12,
      "outputs": [
        {
          "output_type": "execute_result",
          "data": {
            "text/plain": [
              "             3    2    \n",
              "            x    x     \n",
              "y(x) = C₁ - ── + ── + x\n",
              "            3    2     "
            ],
            "text/latex": "$\\displaystyle y{\\left(x \\right)} = C_{1} - \\frac{x^{3}}{3} + \\frac{x^{2}}{2} + x$"
          },
          "metadata": {},
          "execution_count": 12
        }
      ]
    },
    {
      "cell_type": "code",
      "source": [
        "# Apply the initial condition y(6) = 0\n",
        "initial_condition = {y.subs(x, 6): 0}\n",
        "particular_solution = dsolve(DGL, ics=initial_condition)\n",
        "particular_solution"
      ],
      "metadata": {
        "colab": {
          "base_uri": "https://localhost:8080/",
          "height": 54
        },
        "id": "hDCL25X8wFKN",
        "outputId": "d35786e0-8500-44e3-e1eb-919d4ea54294"
      },
      "execution_count": 13,
      "outputs": [
        {
          "output_type": "execute_result",
          "data": {
            "text/plain": [
              "          3    2         \n",
              "         x    x          \n",
              "y(x) = - ── + ── + x + 48\n",
              "         3    2          "
            ],
            "text/latex": "$\\displaystyle y{\\left(x \\right)} = - \\frac{x^{3}}{3} + \\frac{x^{2}}{2} + x + 48$"
          },
          "metadata": {},
          "execution_count": 13
        }
      ]
    },
    {
      "cell_type": "code",
      "source": [
        "# prompt: Löse die DGL mit y(6) = 0\n",
        "\n",
        "from sympy import *\n",
        "import matplotlib.pyplot as plt\n",
        "init_printing()\n",
        "\n",
        "x = symbols('x', real=True)\n",
        "y = Function('y')(x)\n",
        "DGL = Eq(y.diff(x), -x**2 + x + 1)\n",
        "\n",
        "# Solve the differential equation\n",
        "general_solution = dsolve(DGL)\n",
        "\n",
        "# Apply the initial condition y(6) = 0\n",
        "initial_condition = {y.subs(x, 6): 0}\n",
        "particular_solution = dsolve(DGL, ics=initial_condition)\n",
        "\n",
        "# Display the particular solution\n",
        "print(particular_solution)\n",
        "\n",
        "# Plot the solution (optional)\n",
        "p = plot(particular_solution.rhs, (x, 0, 10), ylabel=\"y(x)\", show=False)\n",
        "p[0].line_color = 'blue'\n",
        "p.show()\n"
      ],
      "metadata": {
        "colab": {
          "base_uri": "https://localhost:8080/",
          "height": 504
        },
        "id": "er1_WL9_veqL",
        "outputId": "b420bab7-7a82-4528-c860-43538ae09b5a"
      },
      "execution_count": 14,
      "outputs": [
        {
          "output_type": "stream",
          "name": "stdout",
          "text": [
            "Eq(y(x), -x**3/3 + x**2/2 + x + 48)\n"
          ]
        },
        {
          "output_type": "display_data",
          "data": {
            "text/plain": [
              "<Figure size 640x480 with 1 Axes>"
            ],
            "image/png": "[encoded data removed]"
          },
          "metadata": {}
        }
      ]
    },
    {
      "cell_type": "markdown",
      "source": [
        "# 3 Gewöhnliche Differentialgleichungen: Mit zwei Anfangswertaufgaben\n",
        "[Youtube link zum Video](https://www.youtube.com/watch?v=wQ8oPp-vpSA&list=PLPELvLjbS6Y-ef2iDgJZ8tOO6Km8r2SkL&index=5)"
      ],
      "metadata": {
        "id": "5Nu2HSKNZ2gR"
      }
    },
    {
      "cell_type": "markdown",
      "source": [
        "- Aufgabe<br>\n",
        "$ y'' = -6x + 12  \\quad, y(1) = 8 \\quad,y(5)= 0 $ <br><br>\n",
        "- Allg. Lösung mit Trennung der Variablen<br>\n",
        "$ \\dfrac{y''}{dx} = 6x - 12 \\Leftrightarrow y' = ∫ (6x-12)\\cdot dx \\Rightarrow y' =3x^2 +12x+C_{1} $ <br><br>\n",
        "$ \\dfrac{dy}{dx} = 3x^2 + 12x + C_{1} \\Leftrightarrow dy = (3x^2 + 12x + C_{1})dx $<br><br>\n",
        "$ \\int 1dy = \\int(3x^2 + 12x + C_{1})dx $<br><br>\n",
        "- Allgemeine Lösung<br>\n",
        "$ y = x^3 + 6x^2 + C_{1}x + C_{2} $<br><br>\n",
        "- Randwerte einsetzen<br>\n",
        "- Spezielle Lösung<br>\n",
        "\n",
        "\n"
      ],
      "metadata": {
        "id": "imhQmUmQRp0S"
      }
    },
    {
      "cell_type": "code",
      "source": [
        "from sympy import *\n",
        "\n",
        "x = symbols('x')\n",
        "y = Function('y')(x)\n",
        "\n",
        "# Define the differential equation\n",
        "diffeq = Eq(y.diff(x, 2), 6*x - 12)\n",
        "diffeq"
      ],
      "metadata": {
        "colab": {
          "base_uri": "https://localhost:8080/",
          "height": 54
        },
        "id": "7qd-l2EfbpRP",
        "outputId": "b21a1967-00e5-4b21-ad01-91a21aedc86d"
      },
      "execution_count": 15,
      "outputs": [
        {
          "output_type": "execute_result",
          "data": {
            "text/plain": [
              " 2                  \n",
              "d                   \n",
              "───(y(x)) = 6⋅x - 12\n",
              "  2                 \n",
              "dx                  "
            ],
            "text/latex": "$\\displaystyle \\frac{d^{2}}{d x^{2}} y{\\left(x \\right)} = 6 x - 12$"
          },
          "metadata": {},
          "execution_count": 15
        }
      ]
    },
    {
      "cell_type": "code",
      "source": [
        "# Solve the differential equation\n",
        "general_solution = dsolve(diffeq, y)\n",
        "general_solution"
      ],
      "metadata": {
        "colab": {
          "base_uri": "https://localhost:8080/",
          "height": 39
        },
        "id": "dYIkqimwb-de",
        "outputId": "4a214f18-8b02-4cfe-a3b1-b4b0afb4f2cc"
      },
      "execution_count": 16,
      "outputs": [
        {
          "output_type": "execute_result",
          "data": {
            "text/plain": [
              "                    3      2\n",
              "y(x) = C₁ + C₂⋅x + x  - 6⋅x "
            ],
            "text/latex": "$\\displaystyle y{\\left(x \\right)} = C_{1} + C_{2} x + x^{3} - 6 x^{2}$"
          },
          "metadata": {},
          "execution_count": 16
        }
      ]
    },
    {
      "cell_type": "code",
      "source": [
        "# Apply the boundary conditions\n",
        "C1, C2 = symbols('C1 C2')\n",
        "# boundary_conditions = {\n",
        "#    general_solution.rhs.subs(x, 1): 8,\n",
        "#    general_solution.rhs.subs(x, 5): 0\n",
        "# }\n",
        "boundary_conditions = [\n",
        "    general_solution.rhs.subs(x, 1) - 8,  # y(1) = 8\n",
        "    general_solution.rhs.subs(x, 5) - 0   # y(5) = 0\n",
        "]\n",
        "\n",
        "# Solve for the constants\n",
        "constants = solve(boundary_conditions, (C1, C2))\n",
        "constants"
      ],
      "metadata": {
        "colab": {
          "base_uri": "https://localhost:8080/",
          "height": 39
        },
        "id": "sU52i_m6cJOX",
        "outputId": "72fd25cd-854f-47b8-fd57-f02b7a9a8b94"
      },
      "execution_count": 17,
      "outputs": [
        {
          "output_type": "execute_result",
          "data": {
            "text/plain": [
              "{C₁: 10, C₂: 3}"
            ],
            "text/latex": "$\\displaystyle \\left\\{ C_{1} : 10, \\  C_{2} : 3\\right\\}$"
          },
          "metadata": {},
          "execution_count": 17
        }
      ]
    },
    {
      "cell_type": "code",
      "source": [
        "# Substitute the constants back into the general solution\n",
        "particular_solution = general_solution.subs(constants)\n",
        "\n",
        "# Print the particular solution\n",
        "particular_solution\n"
      ],
      "metadata": {
        "colab": {
          "base_uri": "https://localhost:8080/",
          "height": 39
        },
        "id": "ZfUKBFY1c1FA",
        "outputId": "207fab83-f618-4edc-f6ad-4927ed62e67f"
      },
      "execution_count": 18,
      "outputs": [
        {
          "output_type": "execute_result",
          "data": {
            "text/plain": [
              "        3      2           \n",
              "y(x) = x  - 6⋅x  + 3⋅x + 10"
            ],
            "text/latex": "$\\displaystyle y{\\left(x \\right)} = x^{3} - 6 x^{2} + 3 x + 10$"
          },
          "metadata": {},
          "execution_count": 18
        }
      ]
    },
    {
      "cell_type": "markdown",
      "source": [],
      "metadata": {
        "id": "UXigegPob5iW"
      }
    },
    {
      "cell_type": "code",
      "source": [
        "# prompt: Berechne analytisch die aufgabe y′′=6x-12,y(1)=8,y(5)=0\n",
        "\n",
        "from sympy import *\n",
        "\n",
        "x = symbols('x')\n",
        "y = Function('y')(x)\n",
        "\n",
        "# Define the differential equation\n",
        "diffeq = Eq(y.diff(x, 2), 6*x - 12)\n",
        "\n",
        "# Solve the differential equation\n",
        "general_solution = dsolve(diffeq, y)\n",
        "\n",
        "# Apply the boundary conditions\n",
        "C1, C2 = symbols('C1 C2')\n",
        "boundary_conditions = {\n",
        "    general_solution.rhs.subs(x, 1)- 8,\n",
        "    general_solution.rhs.subs(x, 5)- 0\n",
        "}\n",
        "\n",
        "# Solve for the constants\n",
        "constants = solve(boundary_conditions, (C1, C2))\n",
        "\n",
        "# Substitute the constants back into the general solution\n",
        "particular_solution = general_solution.subs(constants)\n",
        "\n",
        "# Print the particular solution\n",
        "particular_solution\n"
      ],
      "metadata": {
        "id": "nu1Bdt-qaoEB",
        "colab": {
          "base_uri": "https://localhost:8080/",
          "height": 39
        },
        "outputId": "7a0cba19-262a-4479-8537-c4c1fce08acb"
      },
      "execution_count": 19,
      "outputs": [
        {
          "output_type": "execute_result",
          "data": {
            "text/plain": [
              "        3      2           \n",
              "y(x) = x  - 6⋅x  + 3⋅x + 10"
            ],
            "text/latex": "$\\displaystyle y{\\left(x \\right)} = x^{3} - 6 x^{2} + 3 x + 10$"
          },
          "metadata": {},
          "execution_count": 19
        }
      ]
    },
    {
      "cell_type": "markdown",
      "source": [
        "# 4 Lineare DGL 1-Ordnung Exponentialansatz\n",
        "\n",
        "- Aufgabe bestimme die Lösungen der:<br>\n",
        "$ y' - 4y = \\mathrm{e}^{\\lambda x} $ <br>\n",
        "- (1) Homogene Lösung bestimmen<br>\n",
        "$$ y' - 4y = 0 $$\n",
        "$$ y_0(x) = c4\\mathrm{e}^{\\lambda 4}  $$<br>"
      ],
      "metadata": {
        "id": "yoweulRPGtu9"
      }
    },
    {
      "cell_type": "code",
      "source": [
        "x = symbols('x')\n",
        "la = symbols('lambda')\n",
        "\n",
        "y = Function('y')(x)\n",
        "\n",
        "# Define the differential equation\n",
        "diffeq = Eq(y.diff(x)-4*y, exp(la*x))\n",
        "diffeq"
      ],
      "metadata": {
        "id": "8I2BFAJtOrXt",
        "outputId": "04f52434-16da-4322-cb7f-d615ef045b36",
        "colab": {
          "base_uri": "https://localhost:8080/",
          "height": 52
        }
      },
      "execution_count": 20,
      "outputs": [
        {
          "output_type": "execute_result",
          "data": {
            "text/plain": [
              "          d           λ⋅x\n",
              "-4⋅y(x) + ──(y(x)) = ℯ   \n",
              "          dx             "
            ],
            "text/latex": "$\\displaystyle - 4 y{\\left(x \\right)} + \\frac{d}{d x} y{\\left(x \\right)} = e^{\\lambda x}$"
          },
          "metadata": {},
          "execution_count": 20
        }
      ]
    },
    {
      "cell_type": "code",
      "source": [
        "# Solve the differential equation\n",
        "general_solution = dsolve(diffeq)\n",
        "# general_solution"
      ],
      "metadata": {
        "id": "OFWwd6_8PL0a"
      },
      "execution_count": 25,
      "outputs": []
    },
    {
      "cell_type": "code",
      "source": [
        "# Print the general solution\n",
        "print(\"\\nGeneral solution for y' - 4y = e^(lambda*x):\")\n",
        "general_solution"
      ],
      "metadata": {
        "id": "Vpc4XVD87es0",
        "outputId": "ceda5dd1-d657-470a-8125-334a0bfcb693",
        "colab": {
          "base_uri": "https://localhost:8080/",
          "height": 91
        }
      },
      "execution_count": 22,
      "outputs": [
        {
          "output_type": "stream",
          "name": "stdout",
          "text": [
            "\n",
            "General solution for y' - 4y = e^(lambda*x):\n"
          ]
        },
        {
          "output_type": "execute_result",
          "data": {
            "text/plain": [
              "                  λ⋅x \n",
              "           4⋅x   ℯ    \n",
              "y(x) = C₁⋅ℯ    + ─────\n",
              "                 λ - 4"
            ],
            "text/latex": "$\\displaystyle y{\\left(x \\right)} = C_{1} e^{4 x} + \\frac{e^{\\lambda x}}{\\lambda - 4}$"
          },
          "metadata": {},
          "execution_count": 22
        }
      ]
    },
    {
      "cell_type": "code",
      "source": [
        "general_solution.rhs"
      ],
      "metadata": {
        "id": "LSKouJsJW3mM",
        "outputId": "4aa61a3a-ee76-4b63-fb23-8e18a0e85038",
        "colab": {
          "base_uri": "https://localhost:8080/",
          "height": 56
        }
      },
      "execution_count": 23,
      "outputs": [
        {
          "output_type": "execute_result",
          "data": {
            "text/plain": [
              "           λ⋅x \n",
              "    4⋅x   ℯ    \n",
              "C₁⋅ℯ    + ─────\n",
              "          λ - 4"
            ],
            "text/latex": "$\\displaystyle C_{1} e^{4 x} + \\frac{e^{\\lambda x}}{\\lambda - 4}$"
          },
          "metadata": {},
          "execution_count": 23
        }
      ]
    },
    {
      "cell_type": "markdown",
      "source": [
        "# 5 Lets practice with solve_ivp\n",
        "and solve the simple differential equation for logarithmic functions<br>\n",
        "https://medium.com/@bldevries/simply-solving-differential-equations-using-python-scipy-and-solve-ivp-f6185da2572d<br><br>\n",
        "$ \\frac{dy}{dx}= -y(x) = func(x,y) \\quad, y(0)=1$"
      ],
      "metadata": {
        "id": "xUQJPun2KFc8"
      }
    },
    {
      "cell_type": "code",
      "source": [],
      "metadata": {
        "id": "yJQ6QcLUh2kR"
      },
      "execution_count": null,
      "outputs": []
    },
    {
      "cell_type": "code",
      "source": [
        "from scipy.integrate import solve_ivp\n",
        "import numpy as np\n",
        "# -y(x) Right-hand site rhs of the differential equation\n",
        "def fun(x,y):\n",
        "  return -y"
      ],
      "metadata": {
        "id": "_r5R_61-LuIs"
      },
      "execution_count": 32,
      "outputs": []
    },
    {
      "cell_type": "markdown",
      "source": [
        "The function fun is given both the value of x and y for the current integration step. You then calculate the new value of dy/dx in fun(x,y) and return it.\n",
        "\n",
        "We can solve the equation by first making a list of x values we want:"
      ],
      "metadata": {
        "id": "s0yZKp2kMdfG"
      }
    },
    {
      "cell_type": "code",
      "source": [
        "x_pts = np.linspace(0, 10, 11)"
      ],
      "metadata": {
        "id": "1w1Q1iuFMeQJ"
      },
      "execution_count": 30,
      "outputs": []
    },
    {
      "cell_type": "markdown",
      "source": [
        "And then call solve_ivp over the interval x=0 to x=10 and using the boundary condition y(0)=1. We also use the t_eval argument to calculate the solution at the points in t_eval after the system is solved:"
      ],
      "metadata": {
        "id": "hXWAy8mKM17Y"
      }
    },
    {
      "cell_type": "code",
      "source": [
        "result = solve_ivp(fun, (0, 10), [1], t_eval=x_pts) # y0 = 1\n",
        "result"
      ],
      "metadata": {
        "id": "w2ziroc0Mlvj",
        "outputId": "decee074-2f95-4143-901e-841884de91e2",
        "colab": {
          "base_uri": "https://localhost:8080/"
        }
      },
      "execution_count": 56,
      "outputs": [
        {
          "output_type": "execute_result",
          "data": {
            "text/plain": [
              "  message: The solver successfully reached the end of the integration interval.\n",
              "  success: True\n",
              "   status: 0\n",
              "        t: [ 0.000e+00  1.000e+00  2.000e+00  3.000e+00  4.000e+00\n",
              "             5.000e+00  6.000e+00  7.000e+00  8.000e+00  9.000e+00\n",
              "             1.000e+01]\n",
              "        y: [[ 1.000e+00  3.681e-01  1.355e-01  4.986e-02  1.835e-02\n",
              "              6.752e-03  2.486e-03  9.151e-04  3.370e-04  1.241e-04\n",
              "              4.572e-05]]\n",
              "      sol: None\n",
              " t_events: None\n",
              " y_events: None\n",
              "     nfev: 74\n",
              "     njev: 0\n",
              "      nlu: 0"
            ]
          },
          "metadata": {},
          "execution_count": 56
        }
      ]
    },
    {
      "cell_type": "code",
      "source": [
        "# analythische Lösung\n",
        "x = symbols('x',real=True)\n",
        "y = Function('y')(x)\n",
        "DGL = Eq(y.diff(x), -y)\n",
        "DGL"
      ],
      "metadata": {
        "id": "HffoLU-tM6n7",
        "outputId": "21696339-c7b1-4888-ce33-aeff43231ab4",
        "colab": {
          "base_uri": "https://localhost:8080/",
          "height": 52
        }
      },
      "execution_count": 53,
      "outputs": [
        {
          "output_type": "execute_result",
          "data": {
            "text/plain": [
              "d               \n",
              "──(y(x)) = -y(x)\n",
              "dx              "
            ],
            "text/latex": "$\\displaystyle \\frac{d}{d x} y{\\left(x \\right)} = - y{\\left(x \\right)}$"
          },
          "metadata": {},
          "execution_count": 53
        }
      ]
    },
    {
      "cell_type": "code",
      "source": [
        "# Solve the differential equation\n",
        "general_solution = dsolve(DGL)\n",
        "\n",
        "# Apply the initial condition y(0) = 1\n",
        "initial_condition = {y.subs(x, 0): 1}\n",
        "print(initial_condition)\n",
        "particular_solution = dsolve(DGL, ics=initial_condition)\n",
        "\n",
        "# Display the particular solution\n",
        "print('particular_solution:', particular_solution)\n",
        "particular_solution\n"
      ],
      "metadata": {
        "id": "GRsb3874N2bu",
        "outputId": "150a9512-2aaa-474c-88ee-9d192b8fd367",
        "colab": {
          "base_uri": "https://localhost:8080/",
          "height": 73
        }
      },
      "execution_count": 54,
      "outputs": [
        {
          "output_type": "stream",
          "name": "stdout",
          "text": [
            "{y(0): 1}\n",
            "particular_solution: Eq(y(x), exp(-x))\n"
          ]
        },
        {
          "output_type": "execute_result",
          "data": {
            "text/plain": [
              "        -x\n",
              "y(x) = ℯ  "
            ],
            "text/latex": "$\\displaystyle y{\\left(x \\right)} = e^{- x}$"
          },
          "metadata": {},
          "execution_count": 54
        }
      ]
    },
    {
      "cell_type": "code",
      "source": [
        "plt.plot(result.y[0,:], label = \"Numerical solution\")\n",
        "plt.plot(x_pts, [math.e**(-x) for x in x_pts], \"o\", \\\n",
        "                label=\"Analytical solution\")\n",
        "plt.xlabel(\"x\")\n",
        "plt.ylabel(\"y(x)\")\n",
        "plt.legend()"
      ],
      "metadata": {
        "id": "PQOfrp80OV7r",
        "outputId": "2fca57ab-979e-4529-b62f-bcbd858f4bf8",
        "colab": {
          "base_uri": "https://localhost:8080/",
          "height": 466
        }
      },
      "execution_count": 55,
      "outputs": [
        {
          "output_type": "execute_result",
          "data": {
            "text/plain": [
              "<matplotlib.legend.Legend at 0x7cb53f366e10>"
            ]
          },
          "metadata": {},
          "execution_count": 55
        },
        {
          "output_type": "display_data",
          "data": {
            "text/plain": [
              "<Figure size 640x480 with 1 Axes>"
            ],
            "image/png": "[encoded data removed]"
          },
          "metadata": {}
        }
      ]
    },
    {
      "cell_type": "code",
      "source": [],
      "metadata": {
        "id": "QJ0IYrZYOgn-"
      },
      "execution_count": null,
      "outputs": []
    }
  ]
}
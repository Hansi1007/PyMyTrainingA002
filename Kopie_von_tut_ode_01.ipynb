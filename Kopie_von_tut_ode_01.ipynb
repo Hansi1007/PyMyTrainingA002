{
  "nbformat": 4,
  "nbformat_minor": 0,
  "metadata": {
    "colab": {
      "provenance": []
    },
    "kernelspec": {
      "name": "python3",
      "display_name": "Python 3"
    },
    "language_info": {
      "name": "python"
    }
  },
  "cells": [
    {
      "cell_type": "code",
      "source": [
        "from sympy import *\n",
        "import matplotlib.pyplot as plt\n",
        "init_printing()"
      ],
      "metadata": {
        "id": "Byqeui6UUuhR"
      },
      "execution_count": 23,
      "outputs": []
    },
    {
      "cell_type": "code",
      "source": [
        "print(\"Running\")"
      ],
      "metadata": {
        "colab": {
          "base_uri": "https://localhost:8080/"
        },
        "id": "dpPPXlbE0Wig",
        "outputId": "a6745339-9600-4630-dd79-1d403eefb63c"
      },
      "execution_count": 24,
      "outputs": [
        {
          "output_type": "stream",
          "name": "stdout",
          "text": [
            "Running\n"
          ]
        }
      ]
    },
    {
      "cell_type": "markdown",
      "source": [
        "### Gewöhnliche DGL (ODE) 1ter Ordnung\n",
        "$ \\quad  f^{\\prime} - x = 0 \\quad \\hbox{ mit Anfangswert: }\\ y(2) = 4 $<br>\n",
        "$ \\hbox{1.}\\ f^{\\prime} = \\frac{dy}{dx}  \\quad, \\, f^{\\prime} - x = 0 \\quad \\Leftrightarrow \\quad \\frac{dy}{dx} - x = 0$<br>\n",
        "$ \\hbox{2.}\\ \\hbox{Trennung der Variablen} \\quad {dy} = x {dx}$<br>\n",
        "$ \\quad \\hbox{Auf beiden seiten integrieren:} \\quad \t\\int{dy} = \\int x dx \\quad y = \\frac{x^2}{2}+ C 1​ $<br>\n",
        "$ \\quad \\hbox{Anfangswert}$\n"
      ],
      "metadata": {
        "id": "2tng1uEi85tG"
      }
    },
    {
      "cell_type": "code",
      "source": [
        "x = symbols('x',real=True)\n",
        "y = Function('y')(x)\n",
        "DGL = Eq(y.diff(x), x)\n",
        "DGL"
      ],
      "metadata": {
        "colab": {
          "base_uri": "https://localhost:8080/",
          "height": 52
        },
        "id": "WwDFzdboBBR4",
        "outputId": "eb1313ca-1498-4124-b3bc-de093c8a884b"
      },
      "execution_count": 25,
      "outputs": [
        {
          "output_type": "execute_result",
          "data": {
            "text/plain": [
              "d           \n",
              "──(y(x)) = x\n",
              "dx          "
            ],
            "text/latex": "$\\displaystyle \\frac{d}{d x} y{\\left(x \\right)} = x$"
          },
          "metadata": {},
          "execution_count": 25
        }
      ]
    },
    {
      "cell_type": "code",
      "source": [
        "dsolve(DGL)"
      ],
      "metadata": {
        "colab": {
          "base_uri": "https://localhost:8080/",
          "height": 54
        },
        "id": "mNqktsm5BT6Q",
        "outputId": "2b5b03e8-7f57-4358-9732-84473ce5b611"
      },
      "execution_count": 26,
      "outputs": [
        {
          "output_type": "execute_result",
          "data": {
            "text/plain": [
              "             2\n",
              "            x \n",
              "y(x) = C₁ + ──\n",
              "            2 "
            ],
            "text/latex": "$\\displaystyle y{\\left(x \\right)} = C_{1} + \\frac{x^{2}}{2}$"
          },
          "metadata": {},
          "execution_count": 26
        }
      ]
    },
    {
      "cell_type": "markdown",
      "source": [
        "Die Konstante  C1\n",
        "  ist durch die oben angegebene Anfangsbedingung $( y(2)=α \\quad, α = 4$\n",
        " ) bestimmt. Einarbeiten dieser Anfangsbedingung:"
      ],
      "metadata": {
        "id": "qznWOR9Wz36a"
      }
    },
    {
      "cell_type": "code",
      "source": [
        "alpha= symbols('alpha')\n",
        "y_0 = alpha\n",
        "dsolve(DGL,ics={y.subs(x,0):y_0})"
      ],
      "metadata": {
        "colab": {
          "base_uri": "https://localhost:8080/",
          "height": 54
        },
        "id": "hd9omLwJBk2Y",
        "outputId": "5266cf59-093e-4d9f-b9f0-b1e8be67de43"
      },
      "execution_count": 27,
      "outputs": [
        {
          "output_type": "execute_result",
          "data": {
            "text/plain": [
              "            2\n",
              "           x \n",
              "y(x) = α + ──\n",
              "           2 "
            ],
            "text/latex": "$\\displaystyle y{\\left(x \\right)} = \\alpha + \\frac{x^{2}}{2}$"
          },
          "metadata": {},
          "execution_count": 27
        }
      ]
    },
    {
      "cell_type": "markdown",
      "source": [
        "Es wird somit eine allgemeine analytische Lösung gefunden, sodass wir die spezielle Anfangsbedingung ( y(2)= 4\n",
        " ,  α=4.0 ) einarbeiten können um den noch unbestimmten Parameter  C1\n",
        "  bzw.  α\n",
        "  festzulegen."
      ],
      "metadata": {
        "id": "B33ofP_fpFw4"
      }
    },
    {
      "cell_type": "code",
      "source": [
        "y_0 = 4\n",
        "Loes_DGL = dsolve(DGL,ics={y.subs(x,2):y_0})\n",
        "Loes_DGL"
      ],
      "metadata": {
        "colab": {
          "base_uri": "https://localhost:8080/",
          "height": 54
        },
        "id": "YmbIhHqW0V_M",
        "outputId": "707a13b6-a81c-4a9b-8993-5889235f984d"
      },
      "execution_count": 28,
      "outputs": [
        {
          "output_type": "execute_result",
          "data": {
            "text/plain": [
              "        2    \n",
              "       x     \n",
              "y(x) = ── + 2\n",
              "       2     "
            ],
            "text/latex": "$\\displaystyle y{\\left(x \\right)} = \\frac{x^{2}}{2} + 2$"
          },
          "metadata": {},
          "execution_count": 28
        }
      ]
    },
    {
      "cell_type": "markdown",
      "source": [
        "Wir stellen uns die berechnete analytische Lösung der DGL dar:"
      ],
      "metadata": {
        "id": "JpJE4RGxqJRi"
      }
    },
    {
      "cell_type": "code",
      "source": [
        "p = plot(Loes_DGL.rhs,xlim=(0,4),ylim=(0,10),ylabel=\"y(t)\", show=False);\n",
        "\n",
        "# Add vertical line at x = 2\n",
        "p[0].line_color = 'blue' # Set color for the solution curve\n",
        "# p.append(plot(0, (x,2,2), line_color='red', linestyle='--', show=False)[0])\n",
        "\n",
        "# Add horizontal line at y = 4\n",
        "p.append(plot(4, (x,0,2), line_color='green', linestyle='--', show=False)[0])\n",
        "\n",
        "p.show()\n",
        "\n"
      ],
      "metadata": {
        "colab": {
          "base_uri": "https://localhost:8080/",
          "height": 487
        },
        "id": "bDD-LB_V0u3x",
        "outputId": "e5003f34-c5fa-46db-ed2c-7f581d246039"
      },
      "execution_count": 43,
      "outputs": [
        {
          "output_type": "display_data",
          "data": {
            "text/plain": [
              "<Figure size 640x480 with 1 Axes>"
            ],
            "image/png": "[encoded data removed]"
          },
          "metadata": {}
        }
      ]
    },
    {
      "cell_type": "code",
      "source": [
        "Loes_DGL.rhs"
      ],
      "metadata": {
        "colab": {
          "base_uri": "https://localhost:8080/",
          "height": 54
        },
        "id": "LnsDiPHwslzS",
        "outputId": "75e51ebc-13a4-4eff-cc77-d65a2ad9dc30"
      },
      "execution_count": 44,
      "outputs": [
        {
          "output_type": "execute_result",
          "data": {
            "text/plain": [
              " 2    \n",
              "x     \n",
              "── + 2\n",
              "2     "
            ],
            "text/latex": "$\\displaystyle \\frac{x^{2}}{2} + 2$"
          },
          "metadata": {},
          "execution_count": 44
        }
      ]
    },
    {
      "cell_type": "code",
      "source": [],
      "metadata": {
        "id": "g_d_K68Ps_Fd"
      },
      "execution_count": null,
      "outputs": []
    }
  ]
}
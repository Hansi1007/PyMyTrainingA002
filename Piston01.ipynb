{
  "cells": [
    {
      "cell_type": "markdown",
      "source": [
        "# XML einlesen"
      ],
      "metadata": {
        "id": "OFIg2IKwjo1e"
      }
    },
    {
      "cell_type": "code",
      "source": [
        "import xml.etree.ElementTree as ET\n",
        "\n",
        "def read_xml_file(file_path):\n",
        "  \"\"\"Liest eine XML-Datei ein und gibt den Wurzelknoten zurück.\"\"\"\n",
        "  try:\n",
        "    tree = ET.parse(file_path)\n",
        "    root = tree.getroot()\n",
        "    return root\n",
        "  except FileNotFoundError:\n",
        "    print(f\"Datei nicht gefunden: {file_path}\")\n",
        "    return None\n",
        "  except ET.ParseError:\n",
        "    print(f\"Fehler beim Parsen der XML-Datei: {file_path}\")\n",
        "    return None\n"
      ],
      "metadata": {
        "id": "4m_nXzjDky08"
      },
      "execution_count": null,
      "outputs": []
    },
    {
      "cell_type": "code",
      "source": [
        "from google.colab import files\n",
        "\n",
        "uploaded = files.upload()\n",
        "\n",
        "for fn in uploaded.keys():\n",
        "  print('User uploaded file \"{name}\" with length {length} bytes'.format(\n",
        "      name=fn, length=len(uploaded[fn])))"
      ],
      "metadata": {
        "id": "39ZFi6MRlVll"
      },
      "execution_count": null,
      "outputs": []
    },
    {
      "cell_type": "code",
      "source": [
        "root = read_xml_file(fn)\n",
        "\n"
      ],
      "metadata": {
        "id": "-4e-0OAclmSt"
      },
      "execution_count": null,
      "outputs": []
    },
    {
      "cell_type": "code",
      "source": [
        "# prompt: in einem plot ausgeben\n",
        "\n",
        "import numpy as np\n",
        "import matplotlib.pyplot as plt\n",
        "\n",
        "if root:\n",
        "  yklb_values = []\n",
        "  xklb_values = []\n",
        "  for element in root.findall(\".//MAKROKONTUR\"):\n",
        "    for child in element:\n",
        "      if child.tag == 'KLB_DATEN':\n",
        "        for child2 in child:\n",
        "          if child2.tag == 'ROW':\n",
        "            yklb_found = False\n",
        "            xklb_found = False\n",
        "            for child3 in child2:\n",
        "              if child3.tag == 'YKLB':\n",
        "                yklb_values.append(float(child3.text))\n",
        "                yklb_found = True\n",
        "              elif child3.tag == 'XKLB':\n",
        "                xklb_values.append(float(child3.text))\n",
        "                xklb_found = True\n",
        "            if not yklb_found:\n",
        "              yklb_values.append(np.nan)  # Füge NaN hinzu, falls YKLB fehlt\n",
        "            if not xklb_found:\n",
        "              xklb_values.append(np.nan)  # Füge NaN hinzu, falls XKLB fehlt\n",
        "\n",
        "  yklb_array = np.array(yklb_values)\n",
        "  xklb_array = np.array(xklb_values)\n",
        "\n",
        "  # Plot erstellen\n",
        "  plt.plot(xklb_array, yklb_array, marker='o', linestyle='-')\n",
        "  plt.xlabel(\"XKLB\")\n",
        "  plt.ylabel(\"YKLB\")\n",
        "  plt.title(\"Plot von YKLB gegen XKLB\")\n",
        "  plt.grid(True)\n",
        "  plt.show()\n"
      ],
      "metadata": {
        "id": "VIRcdXIYqslF"
      },
      "execution_count": null,
      "outputs": []
    },
    {
      "cell_type": "code",
      "source": [],
      "metadata": {
        "id": "V9lhVsBGrwsK"
      },
      "execution_count": null,
      "outputs": []
    }
  ],
  "metadata": {
    "colab": {
      "name": "Markdown Guide",
      "provenance": []
    },
    "kernelspec": {
      "display_name": "Python 3",
      "name": "python3"
    }
  },
  "nbformat": 4,
  "nbformat_minor": 0
}
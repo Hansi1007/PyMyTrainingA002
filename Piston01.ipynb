{
  "cells": [
    {
      "cell_type": "markdown",
      "source": [
        "# XML einlesen"
      ],
      "metadata": {
        "id": "OFIg2IKwjo1e"
      }
    },
    {
      "cell_type": "code",
      "source": [
        "import xml.etree.ElementTree as ET\n",
        "\n",
        "def read_xml_file(file_path):\n",
        "  \"\"\"Liest eine XML-Datei ein und gibt den Wurzelknoten zurück.\"\"\"\n",
        "  try:\n",
        "    tree = ET.parse(file_path)\n",
        "    root = tree.getroot()\n",
        "    return root\n",
        "  except FileNotFoundError:\n",
        "    print(f\"Datei nicht gefunden: {file_path}\")\n",
        "    return None\n",
        "  except ET.ParseError:\n",
        "    print(f\"Fehler beim Parsen der XML-Datei: {file_path}\")\n",
        "    return None\n"
      ],
      "metadata": {
        "id": "4m_nXzjDky08"
      },
      "execution_count": null,
      "outputs": []
    },
    {
      "cell_type": "code",
      "source": [
        "from google.colab import files\n",
        "\n",
        "uploaded = files.upload()\n",
        "\n",
        "for fn in uploaded.keys():\n",
        "  print('User uploaded file \"{name}\" with length {length} bytes'.format(\n",
        "      name=fn, length=len(uploaded[fn])))"
      ],
      "metadata": {
        "id": "39ZFi6MRlVll"
      },
      "execution_count": null,
      "outputs": []
    },
    {
      "cell_type": "markdown",
      "source": [
        "# Read XML File"
      ],
      "metadata": {
        "id": "8tbhKuAOuqso"
      }
    },
    {
      "cell_type": "code",
      "source": [
        "print(fn)\n",
        "root = read_xml_file(fn)\n",
        "\n"
      ],
      "metadata": {
        "id": "-4e-0OAclmSt"
      },
      "execution_count": null,
      "outputs": []
    },
    {
      "cell_type": "markdown",
      "source": [
        "# Read and Plot the Macrocontur"
      ],
      "metadata": {
        "id": "7lTZ1CLhuxvX"
      }
    },
    {
      "cell_type": "code",
      "source": [
        "# prompt: in einem plot ausgeben\n",
        "\n",
        "import numpy as np\n",
        "import matplotlib.pyplot as plt\n",
        "\n",
        "if root:\n",
        "  yklb_values = []\n",
        "  xklb_values = []\n",
        "  for element in root.findall(\".//MAKROKONTUR\"):\n",
        "    for child in element:\n",
        "      if child.tag == 'KLB_DATEN':\n",
        "        for child2 in child:\n",
        "          if child2.tag == 'ROW':\n",
        "            yklb_found = False\n",
        "            xklb_found = False\n",
        "            for child3 in child2:\n",
        "              if child3.tag == 'YKLB':\n",
        "                yklb_values.append(float(child3.text))\n",
        "                yklb_found = True\n",
        "              elif child3.tag == 'XKLB':\n",
        "                xklb_values.append(float(child3.text))\n",
        "                xklb_found = True\n",
        "            if not yklb_found:\n",
        "              yklb_values.append(np.nan)  # Füge NaN hinzu, falls YKLB fehlt\n",
        "            if not xklb_found:\n",
        "              xklb_values.append(np.nan)  # Füge NaN hinzu, falls XKLB fehlt\n",
        "\n",
        "  yklb_array = np.array(yklb_values)\n",
        "  xklb_array = np.array(xklb_values)\n",
        "\n",
        "  # Plot erstellen\n",
        "  plt.plot(xklb_array, yklb_array, marker='+', linestyle='-')\n",
        "  plt.xlabel(\"XKLB\")\n",
        "  plt.ylabel(\"YKLB\")\n",
        "  plt.title(\"Plot von YKLB gegen XKLB\")\n",
        "  plt.grid(True)\n",
        "  plt.show()\n"
      ],
      "metadata": {
        "id": "VIRcdXIYqslF"
      },
      "execution_count": null,
      "outputs": []
    },
    {
      "cell_type": "markdown",
      "source": [
        "# Correction X/Y Coordinates for Macrocontur"
      ],
      "metadata": {
        "id": "-39N4J0qu-3Y"
      }
    },
    {
      "cell_type": "code",
      "source": [
        "# Reihenfolge der letzten zwei einträge im Array tauschen\n",
        "def changeContur(xarray,yarray, nxklb, nyklb):\n",
        "  print(\"changeContur\")\n",
        "  x = xarray[nxklb-1]\n",
        "  y = yarray[nyklb-1]\n",
        "\n",
        "  xarray[nxklb-1] = xarray[nxklb]\n",
        "  yarray[nyklb-1] = yarray[nyklb]\n",
        "\n",
        "  xarray[nxklb] = x\n",
        "  yarray[nxklb] = y\n",
        "  return xarray, yarray\n",
        "\n",
        "\n",
        "\n",
        "xklb_array,yklb_array = changeContur(xklb_array,yklb_array, xklb_array.size-1, yklb_array.size-1)\n",
        "i = 0\n",
        "for x,y in zip(xklb_array,yklb_array):\n",
        "  print(i, \" \",x,y)\n",
        "  i = i+1\n",
        "\n"
      ],
      "metadata": {
        "id": "V9lhVsBGrwsK"
      },
      "execution_count": null,
      "outputs": []
    },
    {
      "cell_type": "code",
      "source": [
        "nom_diameter = 0.0\n",
        "top_land = 0.0\n",
        "groove1 = 0.0\n",
        "groove5 = 0.0\n",
        "land5 = 0.0\n",
        "\n",
        "land2 = 0.0\n",
        "skirt_length = 0.0\n",
        "total_length = 0.0\n",
        "if root:\n",
        "  yklb_values = []\n",
        "  xklb_values = []\n",
        "  for element in root.findall(\".//HAUPTABMESSUNGEN\"):\n",
        "    for child in element:\n",
        "      if child.tag == 'ANZAHL_NUTEN':\n",
        "        print(\"Anzahl Nuten: \",child.text)\n",
        "      elif child.tag == 'HOEHE':\n",
        "        print(\"Hoehe: \",child.text);\n",
        "        total_length = float(child.text)\n",
        "      elif child.tag == 'FEUERSTEG_LAENGE':\n",
        "        print(\"FEUERSTEG_LAENGE\",child.text)\n",
        "        top_land = float(child.text)\n",
        "      elif child.tag == 'FEUERSTEG_DURCHMESSER':\n",
        "        print(\"FEUERSTEG_DURCHMESSER\",child.text)\n",
        "      elif child.tag == 'RINGSTEG4_LAENGE':\n",
        "        print(\"RINGSTEG4_LAENGE\",child.text)\n",
        "        land5 = float(child.text)\n",
        "      elif child.tag == 'RINGSTEG4_DURCHMESSER':\n",
        "        print(\"RINGSTEG4_DURCHMESSER\",child.text)\n",
        "      elif child.tag == 'RINGSTEG3_LAENGE':\n",
        "        print(\"RINGSTEG3_LAENGE\",child.text)\n",
        "      elif child.tag == 'RINGSTEG3_DURCHMESSER':\n",
        "        print(\"RINGSTEG3_DURCHMESSER\",child.text)\n",
        "      elif child.tag == 'RINGSTEG2_LAENGE':\n",
        "        print(\"RINGSTEG2_LAENGE\",child.text)\n",
        "      elif child.tag == 'RINGSTEG2_DURCHMESSER':\n",
        "        print(\"RINGSTEG2_DURCHMESSER\",child.text)\n",
        "      elif child.tag == 'RINGSTEG1_LAENGE':\n",
        "        print(\"RINGSTEG1_LAENGE\",child.text)\n",
        "        groove1 = float(child.text)\n",
        "      elif child.tag == 'RINGSTEG1_DURCHMESSER':\n",
        "        print(\"RINGSTEG1_DURCHMESSER\",child.text)\n",
        "      elif child.tag == 'NUT5_LAENGE':\n",
        "        print(\"NUT5_LAENGE\",child.text)\n",
        "        groove5 = float(child.text)\n",
        "      elif child.tag == 'NUT5_DURCHMESSER':\n",
        "        print(\"NUT5_DURCHMESSER\",child.text)\n",
        "      elif child.tag == 'NUT4_LAENGE':\n",
        "        print(\"NUT4_LAENGE\",child.text)\n",
        "      elif child.tag == 'NUT4_DURCHMESSER':\n",
        "        print(\"NUT4_DURCHMESSER\",child.text)\n",
        "      elif child.tag == 'NUT3_LAENGE':\n",
        "        print(\"NUT3_LAENGE\",child.text)\n",
        "      elif child.tag == 'NUT3_DURCHMESSER':\n",
        "        print(\"NUT3_DURCHMESSER\",child.text)\n",
        "      elif child.tag == 'NUT2_LAENGE':\n",
        "        print(\"NUT2_LAENGE\",child.text)\n",
        "      elif child.tag == 'NUT2_DURCHMESSER':\n",
        "        print(\"NUT2_DURCHMESSER\",child.text)\n",
        "      elif child.tag == 'NUT1_LAENGE':\n",
        "        print(\"NUT1_LAENGE\",child.text)\n",
        "        groove1 = float(child.text)\n",
        "      elif child.tag == 'NUT1_DURCHMESSER':\n",
        "        print(\"NUT1_DURCHMESSER\",child.text)\n",
        "      elif child.tag == 'SCHAFTDURCHMESSER':\n",
        "        print(\"SCHAFTDURCHMESSER\",child.text)\n",
        "        nom_diameter = float(child.text)\n",
        "      elif child.tag == 'SCHAFTLAENGE':\n",
        "        print(\"SCHAFTLAENGE\",child.text)\n",
        "        skirt_length= float(child.text)\n",
        "      elif child.tag == 'DURCHMESSER':\n",
        "        print(\"DURCHMESSER\",child.text)\n"
      ],
      "metadata": {
        "id": "U2fCEUQ-PpAs"
      },
      "execution_count": null,
      "outputs": []
    },
    {
      "cell_type": "markdown",
      "source": [
        "# Plot Macrocontur"
      ],
      "metadata": {
        "id": "_xYfVYy1vFsw"
      }
    },
    {
      "cell_type": "code",
      "source": [
        "# Plot erstellen\n",
        "plt.plot(xklb_array, yklb_array, marker='.', linestyle='-')\n",
        "plt.hlines(y=total_length-top_land, xmin=0, xmax=nom_diameter/2 +5, colors='b', linestyles='--', label='a')\n",
        "\n",
        "plt.hlines(y=skirt_length+land5, xmin=0, xmax=nom_diameter/2 +5, colors='g', linestyles='--', label='')\n",
        "plt.hlines(y=skirt_length+groove5, xmin=0, xmax=nom_diameter/2 +5, colors='g', linestyles='--', label='')\n",
        "# Skirt\n",
        "plt.hlines(y=skirt_length, xmin=0, xmax=nom_diameter/2 +5, colors='r', linestyles='--', label='e')\n",
        "plt.hlines(y=0, xmin=0, xmax=nom_diameter/2 +5, colors='r', linestyles='--', label='f')\n",
        "\n",
        "plt.xlabel(\"X\")\n",
        "plt.ylabel(\"Y\")\n",
        "plt.title(fn)\n",
        "plt.grid(True)\n",
        "#plt.legend()\n",
        "plt.show()"
      ],
      "metadata": {
        "id": "qNIUhA23cH6H"
      },
      "execution_count": null,
      "outputs": []
    },
    {
      "cell_type": "markdown",
      "source": [
        "<HAUPTABMESSUNGEN>\n",
        "<BOLZENDATEN>\n",
        "...\n",
        "</BOLZENDATEN>\n",
        "<BOMAX>\n",
        "...\n",
        "</BOMAX>\n",
        "<ANZAHL_NUTEN>5</ANZAHL_NUTEN>\n",
        "<HOEHE>55.7</HOEHE>\n",
        "<FEUERSTEG_LAENGE>4</FEUERSTEG_LAENGE>\n",
        "<FEUERSTEG_DURCHMESSER>81</FEUERSTEG_DURCHMESSER>\n",
        "<RINGSTEG4_LAENGE>1.7</RINGSTEG4_LAENGE>\n",
        "<RINGSTEG4_DURCHMESSER>81</RINGSTEG4_DURCHMESSER>\n",
        "<RINGSTEG3_LAENGE>1.6</RINGSTEG3_LAENGE>\n",
        "<RINGSTEG3_DURCHMESSER>81</RINGSTEG3_DURCHMESSER>\n",
        "<RINGSTEG2_LAENGE>2</RINGSTEG2_LAENGE>\n",
        "<RINGSTEG2_DURCHMESSER>80</RINGSTEG2_DURCHMESSER>\n",
        "<RINGSTEG1_LAENGE>1.2</RINGSTEG1_LAENGE>\n",
        "<RINGSTEG1_DURCHMESSER>81</RINGSTEG1_DURCHMESSER>\n",
        "<NUT5_LAENGE>10.2</NUT5_LAENGE>\n",
        "<NUT5_DURCHMESSER>50</NUT5_DURCHMESSER>\n",
        "<NUT4_LAENGE>2</NUT4_LAENGE>\n",
        "<NUT4_DURCHMESSER>75.4</NUT4_DURCHMESSER>\n",
        "<NUT3_LAENGE>1.5</NUT3_LAENGE>\n",
        "<NUT3_DURCHMESSER>73.5</NUT3_DURCHMESSER>\n",
        "<NUT2_LAENGE>0</NUT2_LAENGE>\n",
        "<NUT2_DURCHMESSER>73.5</NUT2_DURCHMESSER>\n",
        "<NUT1_LAENGE>1.5</NUT1_LAENGE>\n",
        "<NUT1_DURCHMESSER>74.1</NUT1_DURCHMESSER>\n",
        "<SCHAFTDURCHMESSER>81</SCHAFTDURCHMESSER>\n",
        "<SCHAFTLAENGE>30</SCHAFTLAENGE>\n",
        "<DURCHMESSER>81</DURCHMESSER>"
      ],
      "metadata": {
        "id": "jqgVYyoWvYZZ"
      }
    },
    {
      "cell_type": "code",
      "source": [
        "nom_diameter\n",
        "top_land\n",
        "land5"
      ],
      "metadata": {
        "id": "w6dx6Wc0ioD5"
      },
      "execution_count": null,
      "outputs": []
    },
    {
      "cell_type": "code",
      "source": [],
      "metadata": {
        "id": "YCgV8Gr2wASy"
      },
      "execution_count": null,
      "outputs": []
    }
  ],
  "metadata": {
    "colab": {
      "name": "Markdown Guide",
      "provenance": [],
      "toc_visible": true
    },
    "kernelspec": {
      "display_name": "Python 3",
      "name": "python3"
    }
  },
  "nbformat": 4,
  "nbformat_minor": 0
}